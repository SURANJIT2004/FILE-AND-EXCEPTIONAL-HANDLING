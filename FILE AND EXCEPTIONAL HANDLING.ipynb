{
 "cells": [
  {
   "cell_type": "markdown",
   "id": "d3e37942-c310-40c6-8f3e-ce1999196cc7",
   "metadata": {},
   "source": [
    "## FILE EXCHANGE :"
   ]
  },
  {
   "cell_type": "code",
   "execution_count": 9,
   "id": "8220e295-b93d-4f72-927c-b738a7804c11",
   "metadata": {},
   "outputs": [
    {
     "name": "stdout",
     "output_type": "stream",
     "text": [
      "Hello world\n"
     ]
    }
   ],
   "source": [
    "import pickle\n",
    "f1=open('FILE', 'w')\n",
    "a=\"Hello world\"\n",
    "b=f1.write(a)\n",
    "f1.close()\n",
    "f2=open('FILE', 'r')\n",
    "c=f2.read()\n",
    "f2.close()\n",
    "f3=open('file', 'w')\n",
    "f3.write(c)\n",
    "print(c)\n",
    "f3.close()\n"
   ]
  },
  {
   "cell_type": "markdown",
   "id": "2e59f24a-50ad-4b46-8b03-ce2de1ba030a",
   "metadata": {},
   "source": [
    "## ADDING LIST TO A FILE :"
   ]
  },
  {
   "cell_type": "code",
   "execution_count": 10,
   "id": "effd7e0b-f961-4d03-b33d-c6565ecfe53d",
   "metadata": {},
   "outputs": [
    {
     "name": "stdout",
     "output_type": "stream",
     "text": [
      "[10, 20, 30]\n"
     ]
    }
   ],
   "source": [
    "import pickle\n",
    "f1=open('file1','wb')\n",
    "pickle.dump([10,20,30],f1)\n",
    "f1.close()\n",
    "f2=open('file1','rb')\n",
    "a=pickle.load(f2)\n",
    "print(a)\n",
    "f2.close()"
   ]
  },
  {
   "cell_type": "markdown",
   "id": "1d7498a6-7c78-4e7c-b6f1-72b78697a86f",
   "metadata": {},
   "source": [
    "## ADDING DICTIONARY TO A FILE :"
   ]
  },
  {
   "cell_type": "code",
   "execution_count": 13,
   "id": "f6d478ea-e9be-46eb-b517-f9e70f9ad5f2",
   "metadata": {},
   "outputs": [
    {
     "name": "stdout",
     "output_type": "stream",
     "text": [
      "{1: 'a', 2: 'b'}\n"
     ]
    }
   ],
   "source": [
    "import pickle\n",
    "f1=open('file1','wb')\n",
    "pickle.dump({1 :'a' , 2 :'b'}, f1)\n",
    "f1.close()\n",
    "f2=open('file1','rb')\n",
    "a=pickle.load(f2)\n",
    "print(a)\n",
    "f2.close()"
   ]
  },
  {
   "cell_type": "markdown",
   "id": "4a38995c-31c0-496e-b469-8b8e23f43acd",
   "metadata": {},
   "source": [
    "## HANDLING THE EXCEPTION"
   ]
  },
  {
   "cell_type": "markdown",
   "id": "bbe0b3a1-02fd-46e3-954e-bc48c2388e74",
   "metadata": {},
   "source": [
    "#### Through try and except :4"
   ]
  },
  {
   "cell_type": "code",
   "execution_count": 3,
   "id": "aa79fdde-b2e5-4132-bf1d-15e1db1de8b0",
   "metadata": {},
   "outputs": [
    {
     "name": "stdin",
     "output_type": "stream",
     "text": [
      "Enter the age :  yu\n"
     ]
    },
    {
     "name": "stdout",
     "output_type": "stream",
     "text": [
      "Invalid Age\n"
     ]
    }
   ],
   "source": [
    "try:\n",
    "    age=int(input(\"Enter the age : \"))\n",
    "    if age>=18 and age<=65:\n",
    "        print(\"Valid Age\")\n",
    "except ValueError :\n",
    "    print(\"Invalid Age\")\n",
    "\n",
    "# Enter the age :  56\n",
    "# Valid Age "
   ]
  },
  {
   "cell_type": "markdown",
   "id": "1ea6dc06-3c91-4fc8-8835-5d10fb9ec9cf",
   "metadata": {},
   "source": [
    "#### Through Raise"
   ]
  },
  {
   "cell_type": "code",
   "execution_count": 20,
   "id": "953375f9-dc82-46d1-96f5-a924137489ae",
   "metadata": {},
   "outputs": [
    {
     "name": "stdin",
     "output_type": "stream",
     "text": [
      "Enter the age :  yu\n"
     ]
    },
    {
     "name": "stdout",
     "output_type": "stream",
     "text": [
      "Invalid Age\n",
      "'Please.'Enter a Valid Age' ! Except only 'INTEGERS'\n"
     ]
    }
   ],
   "source": [
    "try: \n",
    "    age=int(input(\"Enter the age : \"))\n",
    "    if age <18 or age >65:\n",
    "        raise ValueError\n",
    "    else:\n",
    "        print (\"Valid Age\")\n",
    "except:\n",
    "    print(\"Invalid Age\")\n",
    "    print(\"'Please.'Enter a Valid Age' ! Except only 'INTEGERS'\") "
   ]
  }
 ],
 "metadata": {
  "kernelspec": {
   "display_name": "Python 3 (ipykernel)",
   "language": "python",
   "name": "python3"
  },
  "language_info": {
   "codemirror_mode": {
    "name": "ipython",
    "version": 3
   },
   "file_extension": ".py",
   "mimetype": "text/x-python",
   "name": "python",
   "nbconvert_exporter": "python",
   "pygments_lexer": "ipython3",
   "version": "3.11.5"
  }
 },
 "nbformat": 4,
 "nbformat_minor": 5
}
